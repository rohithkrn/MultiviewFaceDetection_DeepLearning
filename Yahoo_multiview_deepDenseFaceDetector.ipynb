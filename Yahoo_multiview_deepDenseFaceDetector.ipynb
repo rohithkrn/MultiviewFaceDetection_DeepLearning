{
 "cells": [
  {
   "cell_type": "code",
   "execution_count": 2,
   "metadata": {
    "collapsed": true
   },
   "outputs": [],
   "source": [
    "caffe_root = '/home/rohith/Softwares/caffe/'\n",
    "# root for the data folder\n",
    "data_root = '/home/rohith/Documents/CVProject/KaggleData/'"
   ]
  },
  {
   "cell_type": "code",
   "execution_count": 3,
   "metadata": {
    "collapsed": true
   },
   "outputs": [],
   "source": [
    "import sys\n",
    "import caffe\n",
    "caffe.set_mode_cpu()\n",
    "\n",
    "import numpy as np\n",
    "from pylab import *\n",
    "%matplotlib inline\n",
    "import tempfile"
   ]
  },
  {
   "cell_type": "code",
   "execution_count": 3,
   "metadata": {
    "collapsed": true
   },
   "outputs": [],
   "source": [
    "import os\n",
    "os.chdir(caffe_root)  # run scripts from caffe root\n",
    "!data/ilsvrc12/get_ilsvrc_aux.sh\n",
    "!scripts/download_model_binary.py models/bvlc_reference_caffenet"
   ]
  },
  {
   "cell_type": "code",
   "execution_count": 4,
   "metadata": {
    "collapsed": true
   },
   "outputs": [],
   "source": [
    "import os\n",
    "weights =  '/home/rohith/Softwares/caffe/models/bvlc_reference_caffenet/bvlc_reference_caffenet.caffemodel'\n",
    "assert os.path.exists(weights)"
   ]
  },
  {
   "cell_type": "code",
   "execution_count": 5,
   "metadata": {
    "collapsed": true
   },
   "outputs": [],
   "source": [
    "import pandas as pd\n",
    "\n",
    "labels = pd.read_csv(data_root+'driver_imgs_list.csv').drop('subject', 1)[['img', 'classname']]\n",
    "labels['img'] = labels.apply(lambda row: data_root+'imgs/train/'+row.classname+'/'+row.img, 1)\n",
    "labels['classname'] = labels['classname'].map(lambda l: l[1])\n",
    "labels = labels.reindex(np.random.permutation(labels.index))\n",
    "\n",
    "labels.iloc[0:2000].to_csv(data_root+'valid.txt', sep=' ', header=False, index=False)\n",
    "labels.iloc[2000:].to_csv(data_root+'train.txt', sep=' ', header=False, index=False)\n",
    "labels = None\n",
    "\n",
    "NUM_STATEFARM_LABELS = 10\n",
    "kaggle_labels = [\n",
    "    'c0: safe driving',\n",
    "    'c1: texting - right',\n",
    "    'c2: talking on the phone - right',\n",
    "    'c3: texting - left',\n",
    "    'c4: talking on the phone - left',\n",
    "    'c5: operating the radio',\n",
    "    'c6: drinking',\n",
    "    'c7: reaching behind',\n",
    "    'c8: hair and makeup',\n",
    "    'c9: talking to passenger'\n",
    "]"
   ]
  },
  {
   "cell_type": "code",
   "execution_count": 6,
   "metadata": {
    "collapsed": true
   },
   "outputs": [],
   "source": [
    "from caffe import layers as L\n",
    "from caffe import params as P\n",
    "\n",
    "weight_param = dict(lr_mult=1, decay_mult=1)\n",
    "bias_param   = dict(lr_mult=2, decay_mult=0)\n",
    "learned_param = [weight_param, bias_param]\n",
    "\n",
    "frozen_param = [dict(lr_mult=0)] * 2\n",
    "\n",
    "def conv_relu(bottom, ks, nout, stride=1, pad=0, group=1,\n",
    "              param=learned_param,\n",
    "              weight_filler=dict(type='gaussian', std=0.01),\n",
    "              bias_filler=dict(type='constant', value=0.1)):\n",
    "    conv = L.Convolution(bottom, kernel_size=ks, stride=stride,\n",
    "                         num_output=nout, pad=pad, group=group,\n",
    "                         param=param, weight_filler=weight_filler,\n",
    "                         bias_filler=bias_filler)\n",
    "    return conv, L.ReLU(conv, in_place=True)\n",
    "\n",
    "def fc_relu(bottom, nout, param=learned_param,\n",
    "            weight_filler=dict(type='gaussian', std=0.005),\n",
    "            bias_filler=dict(type='constant', value=0.1)):\n",
    "    fc = L.InnerProduct(bottom, num_output=nout, param=param,\n",
    "                        weight_filler=weight_filler,\n",
    "                        bias_filler=bias_filler)\n",
    "    return fc, L.ReLU(fc, in_place=True)\n",
    "\n",
    "def max_pool(bottom, ks, stride=1):\n",
    "    return L.Pooling(bottom, pool=P.Pooling.MAX, kernel_size=ks, stride=stride)\n",
    "\n",
    "def caffenet(data=None, label=None, train=True, num_classes=1000,\n",
    "             classifier_name='fc8', learn_all=False):\n",
    "    \"\"\"Returns a NetSpec specifying CaffeNet, following the original proto text\n",
    "       specification (./models/bvlc_reference_caffenet/train_val.prototxt).\"\"\"\n",
    "    n = caffe.NetSpec()\n",
    "    n.data = data\n",
    "    param = learned_param if learn_all else frozen_param\n",
    "    n.conv1, n.relu1 = conv_relu(n.data, 11, 96, stride=4, param=param)\n",
    "    n.pool1 = max_pool(n.relu1, 3, stride=2)\n",
    "    n.norm1 = L.LRN(n.pool1, local_size=5, alpha=1e-4, beta=0.75)\n",
    "    n.conv2, n.relu2 = conv_relu(n.norm1, 5, 256, pad=2, group=2, param=param)\n",
    "    n.pool2 = max_pool(n.relu2, 3, stride=2)\n",
    "    n.norm2 = L.LRN(n.pool2, local_size=5, alpha=1e-4, beta=0.75)\n",
    "    n.conv3, n.relu3 = conv_relu(n.norm2, 3, 384, pad=1, param=param)\n",
    "    n.conv4, n.relu4 = conv_relu(n.relu3, 3, 384, pad=1, group=2, param=param)\n",
    "    n.conv5, n.relu5 = conv_relu(n.relu4, 3, 256, pad=1, group=2, param=param)\n",
    "    n.pool5 = max_pool(n.relu5, 3, stride=2)\n",
    "    n.fc6, n.relu6 = fc_relu(n.pool5, 4096, param=param)\n",
    "    if train:\n",
    "        n.drop6 = fc7input = L.Dropout(n.relu6, in_place=True)\n",
    "    else:\n",
    "        fc7input = n.relu6\n",
    "    n.fc7, n.relu7 = fc_relu(fc7input, 4096, param=param)\n",
    "    if train:\n",
    "        n.drop7 = fc8input = L.Dropout(n.relu7, in_place=True)\n",
    "    else:\n",
    "        fc8input = n.relu7\n",
    "    # always learn fc8 (param=learned_param)\n",
    "    fc8 = L.InnerProduct(fc8input, num_output=num_classes, param=learned_param)\n",
    "    # give fc8 the name specified by argument `classifier_name`\n",
    "    n.__setattr__(classifier_name, fc8)\n",
    "    if not train:\n",
    "        n.probs = L.Softmax(fc8)\n",
    "    if label is not None:\n",
    "        n.label = label\n",
    "        n.loss = L.SoftmaxWithLoss(fc8, n.label)\n",
    "        n.acc = L.Accuracy(fc8, n.label)\n",
    "    # write the net to a temporary file and return its filename\n",
    "    with tempfile.NamedTemporaryFile(delete=False) as f:\n",
    "        f.write(str(n.to_proto()))\n",
    "        return f.name"
   ]
  },
  {
   "cell_type": "code",
   "execution_count": 7,
   "metadata": {
    "collapsed": true
   },
   "outputs": [],
   "source": [
    "from caffe.proto import caffe_pb2\n",
    "\n",
    "def solver(train_net_path, test_net_path=None, base_lr=0.001, stepsize=150, gamma=0.1):\n",
    "    s = caffe_pb2.SolverParameter()\n",
    "\n",
    "    # Specify locations of the train and (maybe) test networks.\n",
    "    s.train_net = train_net_path\n",
    "    if test_net_path is not None:\n",
    "        s.test_net.append(test_net_path)\n",
    "        s.test_interval = 1000  # Test after every 1000 training iterations.\n",
    "        s.test_iter.append(100) # Test on 100 batches each time we test.\n",
    "\n",
    "    # The number of iterations over which to average the gradient.\n",
    "    # Effectively boosts the training batch size by the given factor, without\n",
    "    # affecting memory utilization.\n",
    "    s.iter_size = 1\n",
    "    \n",
    "    s.max_iter = 100000     # # of times to update the net (training iterations)\n",
    "    \n",
    "    # Solve using the stochastic gradient descent (SGD) algorithm.\n",
    "    # Other choices include 'Adam' and 'RMSProp'.\n",
    "    s.type = 'SGD'\n",
    "\n",
    "    # Set the initial learning rate for SGD.\n",
    "    s.base_lr = base_lr\n",
    "\n",
    "    # Set `lr_policy` to define how the learning rate changes during training.\n",
    "    # Here, we 'step' the learning rate by multiplying it by a factor `gamma`\n",
    "    # every `stepsize` iterations.\n",
    "    s.lr_policy = 'step'\n",
    "    s.gamma = gamma\n",
    "    s.stepsize = stepsize\n",
    "\n",
    "    # Set other SGD hyperparameters. Setting a non-zero `momentum` takes a\n",
    "    # weighted average of the current gradient and previous gradients to make\n",
    "    # learning more stable. L2 weight decay regularizes learning, to help prevent\n",
    "    # the model from overfitting.\n",
    "    s.momentum = 0.9\n",
    "    s.weight_decay = 5e-4\n",
    "\n",
    "    # Display the current training loss and accuracy every 1000 iterations.\n",
    "    s.display = 1000\n",
    "\n",
    "    # Snapshots are files used to store networks we've trained.  Here, we'll\n",
    "    # snapshot every 10K iterations -- ten times during training.\n",
    "    s.snapshot = 10000\n",
    "    s.snapshot_prefix = data_root + 'models'\n",
    "    \n",
    "    # Train on the GPU.  Using the CPU to train large networks is very slow.\n",
    "    s.solver_mode = caffe_pb2.SolverParameter.CPU\n",
    "    \n",
    "    # Write the solver to a temporary file and return its filename.\n",
    "    with tempfile.NamedTemporaryFile(delete=False) as f:\n",
    "        f.write(str(s))\n",
    "        return f.name"
   ]
  },
  {
   "cell_type": "code",
   "execution_count": 8,
   "metadata": {
    "collapsed": true
   },
   "outputs": [],
   "source": [
    "def kaggle_net(train=True, learn_all=True, batch_size=1):\n",
    "    source = data_root + 'train.txt' if train else data_root + 'valid.txt'\n",
    "\n",
    "    transform_param = dict(mirror=train, crop_size=227,\n",
    "        mean_file=caffe_root + 'data/ilsvrc12/imagenet_mean.binaryproto')\n",
    "\n",
    "    kaggle_data, kaggle_label = L.ImageData(\n",
    "        transform_param=transform_param, source=source,\n",
    "        batch_size=batch_size, new_height=256, new_width=256, ntop=2)\n",
    "    \n",
    "    return caffenet(data=kaggle_data, label=kaggle_label, train=train,\n",
    "                    num_classes=NUM_STATEFARM_LABELS,\n",
    "                    classifier_name='fc8_kaggle',\n",
    "                    learn_all=learn_all)"
   ]
  },
  {
   "cell_type": "code",
   "execution_count": 10,
   "metadata": {
    "collapsed": true
   },
   "outputs": [],
   "source": [
    "def run_solvers(niter, solvers, disp_interval=20):\n",
    "    \"\"\"\n",
    "    Run solvers for niter iterations,\n",
    "    returning the loss and accuracy recorded each iteration.\n",
    "    'solvers' is a list of (name, solver) tuples.\n",
    "    \"\"\"\n",
    "    blobs = ('loss', 'acc')\n",
    "    loss, acc = ({name: np.zeros(niter) for name, _ in solvers}\n",
    "                 for _ in blobs)\n",
    "    for it in range(niter):\n",
    "        for name, s in solvers:\n",
    "            s.step(1)  # run a single SGD step in Caffe\n",
    "            loss[name][it], acc[name][it] = (s.net.blobs[b].data.copy()\n",
    "                                             for b in blobs)\n",
    "        if it % disp_interval == 0 or it + 1 == niter:\n",
    "            loss_disp = '; '.join('%s: loss=%.3f, acc=%2d%%' %\n",
    "                                  (n, loss[n][it], np.round(100*acc[n][it]))\n",
    "                                  for n, _ in solvers)\n",
    "            print '%3d) %s' % (it, loss_disp)     \n",
    "    # Save the learned weights from both nets.\n",
    "    weight_dir = tempfile.mkdtemp()\n",
    "    weights = {}\n",
    "    for name, s in solvers:\n",
    "        filename = 'weights.%s.caffemodel' % name\n",
    "        weights[name] = os.path.join(weight_dir, filename)\n",
    "        s.net.save(weights[name])\n",
    "    return loss, acc, weights"
   ]
  },
  {
   "cell_type": "code",
   "execution_count": 11,
   "metadata": {
    "collapsed": true
   },
   "outputs": [],
   "source": [
    "import time\n",
    "start_time = time.time()\n",
    "niter = 1000  # number of iterations to train\n",
    "# base_lr: starting learning rate = 0.001\n",
    "# learn_all: update the weights in all layers = True\n",
    "# stepsize: learning rate stepsize = 100\n",
    "\n",
    "# Reset kaggle_solver as before.\n",
    "kaggle_solver_filename = solver(kaggle_net())\n",
    "kaggle_solver = caffe.get_solver(kaggle_solver_filename)\n",
    "kaggle_solver.net.copy_from(weights)"
   ]
  },
  {
   "cell_type": "code",
   "execution_count": null,
   "metadata": {
    "collapsed": false
   },
   "outputs": [],
   "source": [
    "print 'Running solvers for %d iterations...' % niter\n",
    "solvers = [('pretrained', kaggle_solver)]\n",
    "loss, acc, weights = run_solvers(niter, solvers)\n",
    "print 'Done.'\n",
    "\n",
    "train_loss = loss['pretrained']\n",
    "train_acc = acc['pretrained']\n",
    "kaggle_weights = weights['pretrained']\n",
    "\n",
    "# Delete solvers to save memory.\n",
    "del kaggle_solver, solvers\n",
    "\n",
    "print \"Finished training the model in %f s\" % (time.time() - start_time)"
   ]
  },
  {
   "cell_type": "code",
   "execution_count": 25,
   "metadata": {
    "collapsed": false
   },
   "outputs": [
    {
     "data": {
      "text/plain": [
       "<matplotlib.text.Text at 0x7fdbaf942a10>"
      ]
     },
     "execution_count": 25,
     "metadata": {},
     "output_type": "execute_result"
    },
    {
     "data": {
      "image/png": "[encoded data removed]",
      "text/plain": [
       "<matplotlib.figure.Figure at 0x7fdbafa4ae90>"
      ]
     },
     "metadata": {},
     "output_type": "display_data"
    }
   ],
   "source": [
    "plot(np.vstack([train_acc]).T)\n",
    "xlabel('Iteration #')\n",
    "ylabel('Accuracy')"
   ]
  },
  {
   "cell_type": "code",
   "execution_count": 46,
   "metadata": {
    "collapsed": true
   },
   "outputs": [],
   "source": [
    "kaggle_weights = '/home/rohith/Documents/CVProject/MyModel1/weights.pretrained.caffemodel'"
   ]
  },
  {
   "cell_type": "code",
   "execution_count": 128,
   "metadata": {
    "collapsed": true
   },
   "outputs": [],
   "source": [
    "def eval_kaggle_net(weights, test_iters=2):\n",
    "    test_net = caffe.Net(kaggle_net(train=False), weights, caffe.TEST)\n",
    "    accuracy = 0\n",
    "    for it in xrange(test_iters):\n",
    "        accuracy += test_net.forward()['acc']\n",
    "        print 'accuracy:', accuracy\n",
    "    accuracy /= test_iters\n",
    "    return test_net, accuracy\n"
   ]
  },
  {
   "cell_type": "code",
   "execution_count": 47,
   "metadata": {
    "collapsed": true
   },
   "outputs": [],
   "source": [
    "test_net = caffe.Net(kaggle_net(train=False), kaggle_weights, caffe.TEST)"
   ]
  },
  {
   "cell_type": "code",
   "execution_count": 18,
   "metadata": {
    "collapsed": false
   },
   "outputs": [
    {
     "name": "stdout",
     "output_type": "stream",
     "text": [
      "Validation accuracy, trained from ImageNet initialization: 98.2%\n"
     ]
    }
   ],
   "source": [
    "test_net, accuracy = eval_kaggle_net(kaggle_weights)\n",
    "print 'Validation accuracy, trained from ImageNet initialization: %3.1f%%' % (100*accuracy, )\n",
    "del test_net\n"
   ]
  },
  {
   "cell_type": "code",
   "execution_count": 12,
   "metadata": {
    "collapsed": false
   },
   "outputs": [
    {
     "name": "stdout",
     "output_type": "stream",
     "text": [
      "blobs ['data', 'label', 'label_data_1_split_0', 'label_data_1_split_1', 'conv1', 'pool1', 'norm1', 'conv2', 'pool2', 'norm2', 'conv3', 'conv4', 'conv5', 'pool5', 'fc6', 'fc7', 'fc8_kaggle', 'fc8_kaggle_fc8_kaggle_0_split_0', 'fc8_kaggle_fc8_kaggle_0_split_1', 'fc8_kaggle_fc8_kaggle_0_split_2', 'probs', 'loss', 'acc']\n",
      "params ['conv1', 'conv2', 'conv3', 'conv4', 'conv5', 'fc6', 'fc7', 'fc8_kaggle']\n"
     ]
    }
   ],
   "source": [
    "print(\"blobs {}\\nparams {}\".format(test_net.blobs.keys(), test_net.params.keys()))"
   ]
  },
  {
   "cell_type": "code",
   "execution_count": 12,
   "metadata": {
    "collapsed": false
   },
   "outputs": [
    {
     "data": {
      "text/plain": [
       "(1, 3, 227, 227)"
      ]
     },
     "execution_count": 12,
     "metadata": {},
     "output_type": "execute_result"
    }
   ],
   "source": [
    "test_net.blobs['data'].data.shape"
   ]
  },
  {
   "cell_type": "code",
   "execution_count": 19,
   "metadata": {
    "collapsed": true
   },
   "outputs": [],
   "source": [
    "def initialize_transformer(net):\n",
    "    mu = np.load(caffe_root + 'python/caffe/imagenet/ilsvrc_2012_mean.npy')\n",
    "    mu = mu.mean(1).mean(1)  # average over pixels to obtain the mean (BGR) pixel values\n",
    "\n",
    "    # create transformer for the input called 'data'\n",
    "    transformer = caffe.io.Transformer({'data': net.blobs['data'].data.shape})\n",
    "\n",
    "    transformer.set_transpose('data', (2,0,1))  # move image channels to outermost dimension\n",
    "    transformer.set_mean('data', mu)            # subtract the dataset-mean value in each channel\n",
    "    transformer.set_raw_scale('data', 255)      # rescale from [0, 1] to [0, 255]\n",
    "    transformer.set_channel_swap('data', (2,1,0))  # swap channels from RGB to BGR\n",
    "    \n",
    "    return transformer\n",
    "\n",
    "def preprocess_batch(images, transformer):\n",
    "    transformed_images = map(\n",
    "        lambda image: transformer.preprocess('data', caffe.io.load_image(image)),\n",
    "        images\n",
    "    )\n",
    "    return transformed_images\n",
    "\n",
    "def process_batch(net, images):\n",
    "    net.blobs['data'].data[...] = images\n",
    "    probs = net.forward(start='conv1')['probs']\n",
    "    return probs\n",
    "\n",
    "def process_image(net, image):\n",
    "    net.blobs['data'].data[0, ...] = image\n",
    "    p = net.forward(start='conv1')['probs'][0]\n",
    "    return p\n",
    "\n",
    "def write_to_file(f_name, probs, images_name):\n",
    "    with open(data_root + f_name, \"a\") as f:\n",
    "        for i in xrange(len(probs)):\n",
    "            f.write(images_name[i][23:])\n",
    "            for p in probs[i]:\n",
    "                f.write(\",%f\" % p)\n",
    "            f.write('\\n')\n"
   ]
  },
  {
   "cell_type": "code",
   "execution_count": 20,
   "metadata": {
    "collapsed": true
   },
   "outputs": [],
   "source": [
    "def extract_probabilities(net, image_set, batch_size=128, out_file='submission.txt', display_interval=10):\n",
    "    start_time = time.time()\n",
    "    with open(data_root + out_file, \"a\") as f:\n",
    "        f.write(\"img,c0,c1,c2,c3,c4,c5,c6,c7,c8,c9\\n\")\n",
    "    \n",
    "    transformer = initialize_transformer(net)\n",
    "    in_batch_size = (len(image_set)/batch_size)*batch_size    \n",
    "    \n",
    "    for s in range(0, in_batch_size, batch_size):\n",
    "        images = image_set[s:s+batch_size]\n",
    "        preprocessed_images = preprocess_batch(images, transformer)\n",
    "        probs = process_batch(net, preprocessed_images)\n",
    "        write_to_file(out_file, probs, images)\n",
    "        if (s / batch_size) % display_interval == 0:\n",
    "            print \"Processed %i images in %f sec\" % (s, time.time() - start_time)\n",
    "        \n",
    "    # for some reason reshaping the image data layer causes the kernel to crash    \n",
    "    left = image_set[in_batch_size:]\n",
    "    probs = []\n",
    "    for image in left:\n",
    "        preprocessed_image = transformer.preprocess('data', caffe.io.load_image(image))\n",
    "        probs.append(process_image(net, preprocessed_image))\n",
    "    write_to_file(out_file, probs, left)\n",
    "    \n",
    "    print \"Finished extracting probabilities in %f sec\" % (time.time() - start_time)"
   ]
  }
 ],
 "metadata": {
  "kernelspec": {
   "display_name": "Python 2",
   "language": "python",
   "name": "python2"
  },
  "language_info": {
   "codemirror_mode": {
    "name": "ipython",
    "version": 2
   },
   "file_extension": ".py",
   "mimetype": "text/x-python",
   "name": "python",
   "nbconvert_exporter": "python",
   "pygments_lexer": "ipython2",
   "version": "2.7.13"
  }
 },
 "nbformat": 4,
 "nbformat_minor": 2
}
